{
 "cells": [
  {
   "cell_type": "code",
   "execution_count": 1,
   "metadata": {},
   "outputs": [
    {
     "name": "stdout",
     "output_type": "stream",
     "text": [
      "/code\n",
      "2.0.1\n"
     ]
    },
    {
     "name": "stderr",
     "output_type": "stream",
     "text": [
      "Downloading: \"https://github.com/facebookresearch/dino/zipball/main\" to /root/.cache/torch/hub/main.zip\n",
      "Downloading: \"https://dl.fbaipublicfiles.com/dino/dino_deitsmall8_pretrain/dino_deitsmall8_pretrain.pth\" to /root/.cache/torch/hub/checkpoints/dino_deitsmall8_pretrain.pth\n",
      "100%|██████████| 82.7M/82.7M [00:01<00:00, 49.7MB/s]\n",
      " 90%|█████████ | 19/21 [00:28<00:03,  1.88s/it]"
     ]
    },
    {
     "ename": "",
     "evalue": "",
     "output_type": "error",
     "traceback": [
      "\u001b[1;31mThe Kernel crashed while executing code in the current cell or a previous cell. \n",
      "\u001b[1;31mPlease review the code in the cell(s) to identify a possible cause of the failure. \n",
      "\u001b[1;31mClick <a href='https://aka.ms/vscodeJupyterKernelCrash'>here</a> for more info. \n",
      "\u001b[1;31mView Jupyter <a href='command:jupyter.viewOutput'>log</a> for further details."
     ]
    }
   ],
   "source": [
    "import os\n",
    "import sys\n",
    "os.chdir('/code/')\n",
    "sys.path.append('/code/')\n",
    "from zs6d import ZS6D\n",
    "import json\n",
    "\n",
    "print(os.getcwd())\n",
    "import torch\n",
    "print(torch.__version__)\n",
    "# Loading the config file:\n",
    "with open(os.path.join(\"./zs6d_configs/bop_eval_configs/cfg_ycbv_inference_bop.json\"), \"r\") as f:\n",
    "    config = json.load(f)\n",
    "    \n",
    "# Instantiating the pose estimator:\n",
    "# This involves handing over the path to the templates_gt file and the corresponding object norm_factors.\n",
    "pose_estimator = ZS6D(config['templates_gt_path'], config['norm_factor_path'])"
   ]
  },
  {
   "cell_type": "code",
   "execution_count": 2,
   "metadata": {},
   "outputs": [
    {
     "name": "stderr",
     "output_type": "stream",
     "text": [
      "2024-06-12 12:03:29,782 - ERROR - Error in get_pose: '1'\n"
     ]
    },
    {
     "ename": "KeyError",
     "evalue": "'1'",
     "output_type": "error",
     "traceback": [
      "\u001b[0;31m---------------------------------------------------------------------------\u001b[0m",
      "\u001b[0;31mKeyError\u001b[0m                                  Traceback (most recent call last)",
      "Cell \u001b[0;32mIn[2], line 34\u001b[0m\n\u001b[1;32m     31\u001b[0m start_time \u001b[38;5;241m=\u001b[39m time\u001b[38;5;241m.\u001b[39mtime()\n\u001b[1;32m     33\u001b[0m \u001b[38;5;66;03m# To estimate the objects Rotation R and translation t the input image, the object_id, a segmentation mask and camera matrix are necessary\u001b[39;00m\n\u001b[0;32m---> 34\u001b[0m R_est, t_est \u001b[38;5;241m=\u001b[39m \u001b[43mpose_estimator\u001b[49m\u001b[38;5;241;43m.\u001b[39;49m\u001b[43mget_pose\u001b[49m\u001b[43m(\u001b[49m\u001b[43mimg\u001b[49m\u001b[43m,\u001b[49m\u001b[43m \u001b[49m\u001b[38;5;28;43mstr\u001b[39;49m\u001b[43m(\u001b[49m\u001b[43mobj_id\u001b[49m\u001b[43m)\u001b[49m\u001b[43m,\u001b[49m\u001b[43m \u001b[49m\u001b[43mmask\u001b[49m\u001b[43m,\u001b[49m\u001b[43m \u001b[49m\u001b[43mcam_K\u001b[49m\u001b[43m,\u001b[49m\u001b[43m \u001b[49m\u001b[43mbbox\u001b[49m\u001b[38;5;241;43m=\u001b[39;49m\u001b[38;5;28;43;01mNone\u001b[39;49;00m\u001b[43m)\u001b[49m\n\u001b[1;32m     36\u001b[0m end_time \u001b[38;5;241m=\u001b[39m time\u001b[38;5;241m.\u001b[39mtime()\n\u001b[1;32m     38\u001b[0m out_img \u001b[38;5;241m=\u001b[39m vis_utils\u001b[38;5;241m.\u001b[39mdraw_3D_bbox_on_image(np\u001b[38;5;241m.\u001b[39marray(img), R_est, t_est, cam_K, data_gt[img_id][obj_number][\u001b[38;5;124m'\u001b[39m\u001b[38;5;124mmodel_info\u001b[39m\u001b[38;5;124m'\u001b[39m], factor\u001b[38;5;241m=\u001b[39m\u001b[38;5;241m1.0\u001b[39m)\n",
      "File \u001b[0;32m/code/zs6d.py:75\u001b[0m, in \u001b[0;36mZS6D.get_pose\u001b[0;34m(self, img, obj_id, mask, cam_K, bbox)\u001b[0m\n\u001b[1;32m     72\u001b[0m     desc \u001b[38;5;241m=\u001b[39m \u001b[38;5;28mself\u001b[39m\u001b[38;5;241m.\u001b[39mextractor\u001b[38;5;241m.\u001b[39mextract_descriptors(img_prep\u001b[38;5;241m.\u001b[39mto(\u001b[38;5;28mself\u001b[39m\u001b[38;5;241m.\u001b[39mdevice), layer\u001b[38;5;241m=\u001b[39m\u001b[38;5;241m11\u001b[39m, facet\u001b[38;5;241m=\u001b[39m\u001b[38;5;124m'\u001b[39m\u001b[38;5;124mkey\u001b[39m\u001b[38;5;124m'\u001b[39m, \u001b[38;5;28mbin\u001b[39m\u001b[38;5;241m=\u001b[39m\u001b[38;5;28;01mFalse\u001b[39;00m, include_cls\u001b[38;5;241m=\u001b[39m\u001b[38;5;28;01mTrue\u001b[39;00m)\n\u001b[1;32m     73\u001b[0m     desc \u001b[38;5;241m=\u001b[39m desc\u001b[38;5;241m.\u001b[39msqueeze(\u001b[38;5;241m0\u001b[39m)\u001b[38;5;241m.\u001b[39msqueeze(\u001b[38;5;241m0\u001b[39m)\u001b[38;5;241m.\u001b[39mdetach()\u001b[38;5;241m.\u001b[39mcpu()\n\u001b[0;32m---> 75\u001b[0m matched_templates \u001b[38;5;241m=\u001b[39m utils\u001b[38;5;241m.\u001b[39mfind_template_cpu(desc, \u001b[38;5;28;43mself\u001b[39;49m\u001b[38;5;241;43m.\u001b[39;49m\u001b[43mtemplates_desc\u001b[49m\u001b[43m[\u001b[49m\u001b[43mobj_id\u001b[49m\u001b[43m]\u001b[49m, num_results\u001b[38;5;241m=\u001b[39m\u001b[38;5;241m1\u001b[39m)\n\u001b[1;32m     77\u001b[0m \u001b[38;5;28;01mif\u001b[39;00m \u001b[38;5;129;01mnot\u001b[39;00m matched_templates:\n\u001b[1;32m     78\u001b[0m     \u001b[38;5;28;01mraise\u001b[39;00m \u001b[38;5;167;01mValueError\u001b[39;00m(\u001b[38;5;124m\"\u001b[39m\u001b[38;5;124mNo matched templates found for the object.\u001b[39m\u001b[38;5;124m\"\u001b[39m)\n",
      "\u001b[0;31mKeyError\u001b[0m: '1'"
     ]
    }
   ],
   "source": [
    "import cv2\n",
    "from PIL import Image\n",
    "import pose_utils.img_utils as img_utils\n",
    "import pose_utils.vis_utils as vis_utils\n",
    "import numpy as np\n",
    "import time\n",
    "import matplotlib.pyplot as plt\n",
    "\n",
    "# Loading a ground truth file to access segmentation masks to test zs6d:\n",
    "with open(os.path.join(config['gt_path']), 'r') as f:\n",
    "    data_gt = json.load(f)\n",
    "\n",
    "img_id = '000048_1'\n",
    "# img_id = '8'\n",
    "\n",
    "\n",
    "\n",
    "for i in range(len(data_gt[img_id])):\n",
    "    obj_number = i\n",
    "    obj_id = data_gt[img_id][obj_number]['obj_id']\n",
    "    cam_K = np.array(data_gt[img_id][obj_number]['cam_K']).reshape((3,3))\n",
    "    bbox = data_gt[img_id][obj_number]['bbox_visib']\n",
    "\n",
    "    img_path = os.path.join(config['dataset_path'], data_gt[img_id][obj_number]['img_name'].split(\"./\")[-1])\n",
    "    img = Image.open(img_path)\n",
    "\n",
    "    mask = data_gt[img_id][obj_number]['mask_sam']\n",
    "    mask = img_utils.rle_to_mask(mask)\n",
    "    mask = mask.astype(np.uint8)\n",
    "\n",
    "    start_time = time.time()\n",
    "    \n",
    "    # To estimate the objects Rotation R and translation t the input image, the object_id, a segmentation mask and camera matrix are necessary\n",
    "    R_est, t_est = pose_estimator.get_pose(img, str(obj_id), mask, cam_K, bbox=None)\n",
    "\n",
    "    end_time = time.time()\n",
    "    \n",
    "    out_img = vis_utils.draw_3D_bbox_on_image(np.array(img), R_est, t_est, cam_K, data_gt[img_id][obj_number]['model_info'], factor=1.0)\n",
    "\n",
    "    plt.imshow(out_img)\n",
    "    plt.show()\n",
    "    print(f\"Pose estimation time: {end_time-start_time}\")\n",
    "    print(f\"R_est: {R_est}\")\n",
    "    print(f\"t_est: {t_est}\")\n",
    "\n",
    "\n"
   ]
  },
  {
   "cell_type": "code",
   "execution_count": null,
   "metadata": {},
   "outputs": [],
   "source": []
  }
 ],
 "metadata": {
  "kernelspec": {
   "display_name": "zs6d",
   "language": "python",
   "name": "python3"
  },
  "language_info": {
   "codemirror_mode": {
    "name": "ipython",
    "version": 3
   },
   "file_extension": ".py",
   "mimetype": "text/x-python",
   "name": "python",
   "nbconvert_exporter": "python",
   "pygments_lexer": "ipython3",
   "version": "3.10.11"
  }
 },
 "nbformat": 4,
 "nbformat_minor": 2
}
